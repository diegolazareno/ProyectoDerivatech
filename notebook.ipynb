{
 "cells": [
  {
   "cell_type": "markdown",
   "metadata": {},
   "source": [
    "![](data:image/png;base64,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)"
   ]
  },
  {
   "cell_type": "markdown",
   "metadata": {},
   "source": [
    "<center><font color=#555555><font size=6> Finanzas Cuantitativas </font> <br> <br>\n",
    "    \n",
    "<center><font color=#555555><font size=5> Ingeniería Financiera </font> <br> <br> <br> <br>\n",
    "\n",
    "<center><font color=#555555><font size=4> I. F. Diego Alberto López Lazareno </font> <br> <br>\n",
    "   \n",
    "<center> <font color= #555555> <font size = 4> Abril 2022 </a> | <font color= #555555> <font size = 4> Repositorio: <a href='https://github.com/diegolazareno/ProyectoDerivatech'>Link</a></font>"
   ]
  },
  {
   "cell_type": "markdown",
   "metadata": {},
   "source": [
    "<hr style=\"border:0.02in solid gray\"> </hr>"
   ]
  },
  {
   "cell_type": "markdown",
   "metadata": {},
   "source": [
    "<center> <font color= #555555> <font size = 6> Derivatech S. A. de C. V.</font> <br> <br> <font color= #555555> <font size = 5> Cotizador de Opciones </font>"
   ]
  },
  {
   "cell_type": "markdown",
   "metadata": {},
   "source": [
    "<hr style=\"border:0.02in solid gray\"> </hr>"
   ]
  },
  {
   "cell_type": "markdown",
   "metadata": {},
   "source": [
    "<br>"
   ]
  },
  {
   "cell_type": "markdown",
   "metadata": {},
   "source": [
    "<font color= #555555> <font size = 4> Abstract </font>"
   ]
  },
  {
   "cell_type": "markdown",
   "metadata": {},
   "source": [
    "<font color= #6B6B6B> <font size = 3> F </font>"
   ]
  },
  {
   "cell_type": "markdown",
   "metadata": {},
   "source": [
    "<br>"
   ]
  },
  {
   "cell_type": "markdown",
   "metadata": {},
   "source": [
    "# <font color= #6B6B6B> <font size = 6> 1. Introducción </font>"
   ]
  },
  {
   "cell_type": "markdown",
   "metadata": {},
   "source": [
    "<hr style=\"border:0.02in solid gray\"> </hr>"
   ]
  },
  {
   "cell_type": "markdown",
   "metadata": {},
   "source": [
    "Intro\n"
   ]
  },
  {
   "cell_type": "markdown",
   "metadata": {},
   "source": [
    "<br>"
   ]
  },
  {
   "cell_type": "markdown",
   "metadata": {},
   "source": [
    "# <font color= #6B6B6B> 2. Cargar Paquetes / Instalación de Dependencias </font>"
   ]
  },
  {
   "cell_type": "markdown",
   "metadata": {},
   "source": [
    "<hr style=\"border:0.02in solid gray\"> </hr>"
   ]
  },
  {
   "cell_type": "markdown",
   "metadata": {},
   "source": [
    "<br>"
   ]
  },
  {
   "cell_type": "markdown",
   "metadata": {},
   "source": [
    "## <font color= #6B6B6B> 2.1 Librerías de Python </font> <font color= #555555>"
   ]
  },
  {
   "cell_type": "markdown",
   "metadata": {},
   "source": [
    "Para correr este notebook es necesario tener instaladas las siguientes librerías:"
   ]
  },
  {
   "cell_type": "markdown",
   "metadata": {},
   "source": [
    "- pandas>=1.1.1 \n",
    "- numpy>=1.19.1\n",
    "- jupyter>=1.0.0\n",
    "- _Add any other here_"
   ]
  },
  {
   "cell_type": "markdown",
   "metadata": {},
   "source": [
    "## <font color= #6B6B6B> 2.2 Dependencias </font> <font color= #555555>"
   ]
  },
  {
   "cell_type": "markdown",
   "metadata": {},
   "source": [
    "Se necesitan los siguientes archivos para correr el notebook:"
   ]
  },
  {
   "cell_type": "markdown",
   "metadata": {},
   "source": [
    "- files/"
   ]
  },
  {
   "cell_type": "markdown",
   "metadata": {},
   "source": [
    "## <font color= #6E6E6E> 2.3 Instalar Paquetes </font>"
   ]
  },
  {
   "cell_type": "markdown",
   "metadata": {},
   "source": [
    "## <font color= #6E6E6E> 2.4 Librerías Requeridas </font>"
   ]
  },
  {
   "cell_type": "code",
   "execution_count": 1,
   "metadata": {},
   "outputs": [],
   "source": [
    "# Configuraciones\n",
    "import warnings\n",
    "warnings.filterwarnings(\"ignore\")\n",
    "\n",
    "# Librerías\n",
    "import main"
   ]
  },
  {
   "cell_type": "markdown",
   "metadata": {},
   "source": [
    "<br>"
   ]
  },
  {
   "cell_type": "markdown",
   "metadata": {},
   "source": [
    "# <font color= #6B6B6B> 3. </font>"
   ]
  },
  {
   "cell_type": "markdown",
   "metadata": {},
   "source": [
    "<hr style=\"border:0.02in solid gray\"> </hr>"
   ]
  },
  {
   "cell_type": "markdown",
   "metadata": {},
   "source": [
    "Apartado descripción."
   ]
  },
  {
   "cell_type": "markdown",
   "metadata": {},
   "source": [
    "## <font color= #6B6B6B> 3.1  </font> <font color= #555555>"
   ]
  },
  {
   "cell_type": "code",
   "execution_count": 2,
   "metadata": {},
   "outputs": [
    {
     "data": {
      "application/vnd.jupyter.widget-view+json": {
       "model_id": "f8f0a9da7c554bbb8023eb546b7c40cd",
       "version_major": 2,
       "version_minor": 0
      },
      "text/plain": [
       "Dropdown(options=('Consumer Durables', nan, 'Transportation', 'Capital Goods', 'Finance', 'Consumer Non-Durabl…"
      ]
     },
     "metadata": {},
     "output_type": "display_data"
    }
   ],
   "source": [
    "SectorButton, infoNasdaq = main.sectorButton()\n",
    "SectorButton"
   ]
  },
  {
   "cell_type": "code",
   "execution_count": 3,
   "metadata": {},
   "outputs": [
    {
     "data": {
      "application/vnd.jupyter.widget-view+json": {
       "model_id": "35e800592e2d4c5a8c8b01364f2d3258",
       "version_major": 2,
       "version_minor": 0
      },
      "text/plain": [
       "interactive(children=(Combobox(value='', description='Company:', ensure_option=True, options=('Andersons Inc. …"
      ]
     },
     "metadata": {},
     "output_type": "display_data"
    }
   ],
   "source": [
    "StockButton = main.companyButton(SectorButton, infoNasdaq)\n",
    "StockButton"
   ]
  },
  {
   "cell_type": "markdown",
   "metadata": {},
   "source": [
    "# <font color= #6B6B6B> #. Conclusiones </font>"
   ]
  },
  {
   "cell_type": "markdown",
   "metadata": {},
   "source": [
    "<hr style=\"border:0.02in solid gray\"> </hr>"
   ]
  },
  {
   "cell_type": "markdown",
   "metadata": {},
   "source": [
    "F"
   ]
  },
  {
   "cell_type": "markdown",
   "metadata": {},
   "source": [
    "# <font color= #6B6B6B> #. Referencias </font>"
   ]
  },
  {
   "cell_type": "markdown",
   "metadata": {},
   "source": [
    "<hr style=\"border:0.02in solid gray\"> </hr>"
   ]
  },
  {
   "cell_type": "markdown",
   "metadata": {},
   "source": [
    "+ F"
   ]
  },
  {
   "cell_type": "markdown",
   "metadata": {},
   "source": [
    "<br>"
   ]
  }
 ],
 "metadata": {
  "kernelspec": {
   "display_name": "Python 3 (ipykernel)",
   "language": "python",
   "name": "python3"
  },
  "language_info": {
   "codemirror_mode": {
    "name": "ipython",
    "version": 3
   },
   "file_extension": ".py",
   "mimetype": "text/x-python",
   "name": "python",
   "nbconvert_exporter": "python",
   "pygments_lexer": "ipython3",
   "version": "3.9.7"
  }
 },
 "nbformat": 4,
 "nbformat_minor": 4
}
